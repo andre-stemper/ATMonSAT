{
 "cells": [
  {
   "cell_type": "markdown",
   "metadata": {},
   "source": [
    "> Copyright 2022 University of Luxembourg\n",
    "> \n",
    "> Licensed under the Apache License, Version 2.0 (the \"License\");  \n",
    "> you may not use this file except in compliance with the License.  \n",
    "> You may obtain a copy of the License at  \n",
    ">\n",
    ">    https://www.apache.org/licenses/LICENSE-2.0\n",
    ">\n",
    "> Unless required by applicable law or agreed to in writing, software  \n",
    "> distributed under the License is distributed on an \"AS IS\" BASIS,  \n",
    "> WITHOUT WARRANTIES OR CONDITIONS OF ANY KIND, either express or implied.  \n",
    "> See the License for the specific language governing permissions and  \n",
    "> limitations under the License.  \n",
    ">\n",
    "***\n",
    "\n",
    "Author: André Stemper (andre.stemper@uni.lu)\n",
    "\n",
    "***"
   ]
  },
  {
   "cell_type": "code",
   "execution_count": null,
   "metadata": {},
   "outputs": [],
   "source": [
    "if not 'experiment_timestamp_string' in locals():\n",
    "    experiment_timestamp_string='20221021-095246'\n",
    "\n",
    "if not 'measurements_root' in locals():\n",
    "    measurements_root='./measurements' "
   ]
  },
  {
   "cell_type": "code",
   "execution_count": null,
   "metadata": {},
   "outputs": [],
   "source": [
    "%matplotlib inline\n",
    "import pandas as pd\n",
    "import matplotlib.pyplot as plt\n",
    "import numpy as np\n",
    "import os\n",
    "import datetime\n",
    "import time\n",
    "# import pickle\n",
    "import sys\n",
    "import json\n",
    "import math"
   ]
  },
  {
   "cell_type": "markdown",
   "metadata": {},
   "source": [
    "Measurement results directory"
   ]
  },
  {
   "cell_type": "code",
   "execution_count": null,
   "metadata": {},
   "outputs": [],
   "source": [
    "measurements_directory = measurements_root + os.path.sep + experiment_timestamp_string"
   ]
  },
  {
   "cell_type": "markdown",
   "metadata": {},
   "source": [
    "**Load settings**"
   ]
  },
  {
   "cell_type": "code",
   "execution_count": null,
   "metadata": {},
   "outputs": [],
   "source": [
    "filename = measurements_directory + os.path.sep + 'settings.json'\n",
    "with open(filename, 'r') as file:\n",
    "    settings = json.load(file)\n",
    "    print(\"Settings loaded from '{}'\".format(filename))\n",
    "\n",
    "print('Settings:')\n",
    "for k, v in settings.items():\n",
    "    print(\" - {} = {}\".format(k, v))"
   ]
  },
  {
   "cell_type": "markdown",
   "metadata": {},
   "source": [
    "### Postprocessing - calculate power from current and voltage traces   \n",
    "Load current and voltage trace from logger "
   ]
  },
  {
   "cell_type": "code",
   "execution_count": null,
   "metadata": {},
   "outputs": [],
   "source": [
    "dateparser = lambda x: datetime.datetime.strptime(x, '%d/%m/%Y %H:%M:%S.%f')\n",
    "filename = measurements_directory+os.path.sep+'current.csv'\n",
    "dataframe_current = pd.read_csv(filename, sep=',', header=2, encoding='utf-8', encoding_errors='replace', index_col='Start Time', parse_dates=True, date_parser=dateparser)\n",
    "dataframe_current.rename(columns={\"Average\": \"current\"}, inplace=True)\n",
    "\n",
    "for i in ['Reading', 'Duration', 'Max', 'Sample','Max Time','Min Time','Min', 'Stop Time','Unnamed: 2', 'Unnamed: 7',  'Unnamed: 9', 'Unnamed: 12']:\n",
    "    del dataframe_current[i]\n",
    "\n",
    "\n",
    "filename = measurements_directory+os.path.sep+'voltage.csv'\n",
    "dataframe_voltage = pd.read_csv(filename, sep=',', header=2, encoding='utf-8', encoding_errors='replace',  index_col='Start Time',  parse_dates=True, date_parser=dateparser)\n",
    "dataframe_voltage.rename(columns={\"Average\": \"voltage\"}, inplace=True)\n",
    "\n",
    "for i in ['Reading', 'Duration', 'Max', 'Sample','Max Time','Min Time','Min', 'Stop Time','Unnamed: 2','Unnamed: 7',  'Unnamed: 9', 'Unnamed: 12']:\n",
    "    del dataframe_voltage[i]\n"
   ]
  },
  {
   "cell_type": "markdown",
   "metadata": {},
   "source": [
    "Use only periodically sampled data (not event based data) "
   ]
  },
  {
   "cell_type": "code",
   "execution_count": null,
   "metadata": {},
   "outputs": [],
   "source": [
    "if True:\n",
    "    dataframe_current = dataframe_current[(dataframe_current['Description']=='Interval')]\n",
    "    dataframe_voltage = dataframe_voltage[(dataframe_voltage['Description']=='Interval')]\n",
    "    del dataframe_current['Description']\n",
    "    del dataframe_voltage['Description']\n",
    "\n",
    "dataframe_voltage['voltage'] = dataframe_voltage['voltage'].astype('float')\n",
    "dataframe_current['current'] = dataframe_current['current'].astype('float')"
   ]
  },
  {
   "cell_type": "markdown",
   "metadata": {},
   "source": [
    "Visualize current data"
   ]
  },
  {
   "cell_type": "code",
   "execution_count": null,
   "metadata": {},
   "outputs": [],
   "source": [
    "ax=dataframe_current['current'].plot()\n",
    "ax.set_ylabel(\"[A]\")\n",
    "ax.set_xlabel(\"[s]\")\n",
    "filename = measurements_directory + os.path.sep + \"current.png\"\n",
    "plt.savefig(filename)\n",
    "print(\"Number of samples {}\".format(len(dataframe_current['current'])))"
   ]
  },
  {
   "cell_type": "code",
   "execution_count": null,
   "metadata": {},
   "outputs": [],
   "source": []
  },
  {
   "cell_type": "markdown",
   "metadata": {},
   "source": [
    "Visualize voltage data"
   ]
  },
  {
   "cell_type": "code",
   "execution_count": null,
   "metadata": {},
   "outputs": [],
   "source": [
    "ax=dataframe_voltage['voltage'].plot()\n",
    "ax.set_ylabel(\"[V]\")\n",
    "ax.set_xlabel(\"[s]\")\n",
    "filename = measurements_directory + os.path.sep + \"voltage.png\"\n",
    "plt.savefig(filename)\n",
    "print(\"Number of samples {}\".format(len(dataframe_voltage['voltage'])))"
   ]
  },
  {
   "cell_type": "markdown",
   "metadata": {},
   "source": [
    "**Merge**"
   ]
  },
  {
   "cell_type": "code",
   "execution_count": null,
   "metadata": {},
   "outputs": [],
   "source": [
    "dataframe_current = dataframe_current[~dataframe_current.index.duplicated(keep='first')]\n",
    "dataframe_voltage = dataframe_voltage[~dataframe_voltage.index.duplicated(keep='first')]\n",
    "dataframe_power = pd.concat([dataframe_current, dataframe_voltage], axis=1, join='outer')\n",
    "dataframe_power = dataframe_power.interpolate(limit_direction='both')\n",
    "filename = measurements_directory + os.path.sep + 'power.csv'\n",
    "dataframe_power.to_csv(filename, sep=';')\n"
   ]
  },
  {
   "cell_type": "markdown",
   "metadata": {
    "notebookRunGroups": {
     "groupValue": "1"
    }
   },
   "source": [
    "**Calculate power**"
   ]
  },
  {
   "cell_type": "code",
   "execution_count": null,
   "metadata": {},
   "outputs": [],
   "source": [
    "dataframe_power['power'] = dataframe_power['voltage'] * dataframe_power['current'] \n",
    "if False:\n",
    "    ax = dataframe_power['power'].plot()\n",
    "    ax.set_ylabel(\"[W]\")\n",
    "    ax.set_xlabel(\"[s]\")\n",
    "    filename = measurements_directory + os.path.sep + \"power.png\"\n",
    "    plt.savefig(filename)\n",
    "    filename = measurements_directory + os.path.sep + \"power.pdf\"\n",
    "    plt.savefig(filename)"
   ]
  },
  {
   "cell_type": "markdown",
   "metadata": {},
   "source": [
    "### Find start / end of experiment based on power consumption"
   ]
  },
  {
   "cell_type": "code",
   "execution_count": null,
   "metadata": {},
   "outputs": [],
   "source": [
    "threshold_percentage = 20 # trigger start / end if <threshold_percentage>% above background"
   ]
  },
  {
   "cell_type": "code",
   "execution_count": null,
   "metadata": {},
   "outputs": [],
   "source": [
    "power_max = dataframe_power['power'].max()\n",
    "power_min = dataframe_power['power'].min()\n",
    "\n",
    "power_threshold = power_min + (power_max - power_min) * threshold_percentage/100.0\n",
    "experiment_begin = dataframe_power[dataframe_power['power'].gt(power_threshold)].index[0]\n",
    "print(\"Experiment begin: {}\".format(experiment_begin))\n",
    "experiment_end = dataframe_power[dataframe_power['power'].gt(power_threshold)].index[-1]\n",
    "print(\"Experiment end: {}\".format(experiment_end))\n",
    "\n",
    "if False:\n",
    "    ax = dataframe_power['power'].plot()\n",
    "    ax.vlines(x=[experiment_begin, experiment_end], ymin=power_min, ymax=power_max, colors=['r', 'r'])\n",
    "    ax.hlines(y=[power_threshold], xmin=experiment_begin, xmax=experiment_end, colors=['g'])\n",
    "\n",
    "    ax.set_ylabel(\"[W]\")\n",
    "    ax.set_xlabel(\"[s]\")\n",
    "    filename = measurements_directory + os.path.sep + \"power.png\"\n",
    "    plt.savefig(filename)\n",
    "\n",
    "    filename = measurements_directory + os.path.sep + \"power.pdf\"\n",
    "    plt.savefig(filename)\n"
   ]
  },
  {
   "cell_type": "code",
   "execution_count": null,
   "metadata": {},
   "outputs": [],
   "source": [
    "experiment_power = dataframe_power['power'].loc[experiment_begin: experiment_end]\n",
    "#background_power = pd.concat(\n",
    "#    [dataframe_power['power'].loc[0: experiment_begin],  dataframe_power['power'].loc[experiment_end:]])\n",
    "\n",
    "background_power = dataframe_power['power'].loc[: experiment_begin]\n",
    "\n",
    "background_power_std = background_power.std()\n",
    "experiment_power_std = experiment_power.std()\n",
    "\n",
    "power_statistics = {\n",
    "    'experiment': {\n",
    "        'mean': experiment_power.mean(),\n",
    "        'std': experiment_power_std,\n",
    "        'min': experiment_power.min(),\n",
    "        'max': experiment_power.max(),\n",
    "        'sample_size': len(experiment_power)\n",
    "    },\n",
    "    'background': {\n",
    "        'mean': background_power.mean(),\n",
    "        'std':  background_power_std,\n",
    "        'min':  background_power.min(),\n",
    "        'max':  background_power.max(),\n",
    "        'sample_size': len(background_power)\n",
    "\n",
    "    },\n",
    "    'difference': {\n",
    "        'mean': experiment_power.mean() - background_power.mean(),\n",
    "        'std' : math.sqrt(background_power_std**2 + experiment_power_std**2)\n",
    "    }\n",
    "}\n",
    "\n",
    "filename = measurements_directory + os.path.sep + 'power_statistics.json'\n",
    "with open(filename, 'w') as file:\n",
    "    json.dump(power_statistics, file)\n",
    "    print(\"Power statistics saved to '{}'\".format(filename))\n",
    "\n",
    "print(\"Power statistics\")\n",
    "for k, v in power_statistics.items():\n",
    "    print(\"{} \\t= {} [W]\".format(k, v))\n"
   ]
  },
  {
   "cell_type": "code",
   "execution_count": null,
   "metadata": {},
   "outputs": [],
   "source": [
    "\n",
    "linewidth = 3\n",
    "\n",
    "power_max = dataframe_power['power'].max()\n",
    "power_min = dataframe_power['power'].min()\n",
    "\n",
    "time_begin = dataframe_power.index[0]\n",
    "time_end  = dataframe_power.index[-1]\n",
    "\n",
    "power_threshold = power_min + (power_max - power_min) * threshold_percentage/100.0\n",
    "experiment_begin = dataframe_power[dataframe_power['power'].gt(power_threshold)].index[0]\n",
    "print(\"Experiment begin: {}\".format(experiment_begin))\n",
    "experiment_end = dataframe_power[dataframe_power['power'].gt(power_threshold)].index[-1]\n",
    "print(\"Experiment end: {}\".format(experiment_end))\n",
    "\n",
    "ax = dataframe_power['power'].plot(color='k')\n",
    "figure = ax.get_figure()\n",
    "figure.set_size_inches(18.5, 10.5)\n",
    "\n",
    "figure = ax.get_figure()\n",
    "length = 72*figure.bbox_inches.height * ax.get_position().height\n",
    "value_range = np.diff(ax.get_ylim())\n",
    "ps= (length / value_range)\n",
    "\n",
    "ax.vlines(x=[experiment_begin, experiment_end], ymin=power_min, ymax=power_max, colors=['r', 'r'], label='experiment begin / end', linestyles='dashed')\n",
    "ax.hlines(y=[power_threshold], xmin=time_begin, xmax=time_end, colors=['b'], linestyles='dotted', label= 'detection threshold: {}%'.format(threshold_percentage))\n",
    "# experiment mean\n",
    "ax.hlines(y=[experiment_power.mean()], xmin=experiment_begin, xmax=experiment_end, colors=['g'], label='experiment mean power',linewidth=linewidth, alpha=1.0)\n",
    "ax.hlines(y=[experiment_power.mean()], xmin=experiment_begin, xmax=experiment_end, colors=['g'], linewidth=experiment_power_std*ps, alpha=0.4)\n",
    "# background mean left side \n",
    "ax.hlines(y=[background_power.mean()], xmin=time_begin, xmax=experiment_begin, colors=['b'], label='background mean power',linewidth=linewidth, alpha=0.5)\n",
    "ax.hlines(y=[background_power.mean()], xmin=time_begin, xmax=experiment_begin, colors=['b'], linewidth=background_power_std*ps, alpha=0.3)\n",
    "\n",
    "# backround mean right side\n",
    "ax.hlines(y=[background_power.mean()], xmin=experiment_end, xmax=time_end, colors=['b'],linewidth=linewidth, alpha=0.5)\n",
    "ax.hlines(y=[background_power.mean()], xmin=experiment_end, xmax=time_end, colors=['b'],linewidth=background_power_std*ps, alpha=0.3)\n",
    "ax.legend()\n",
    "\n",
    "ax.set_ylabel(\"power [W]\")\n",
    "ax.set_xlabel(\"time [s]\")\n",
    "filename = measurements_directory + os.path.sep + \"power.png\"\n",
    "plt.savefig(filename)\n",
    "\n",
    "filename = measurements_directory + os.path.sep + \"power.pdf\"\n",
    "fs = plt.rcParams.get('font.size')\n",
    "plt.rcParams.update({'font.size': 20})\n",
    "plt.savefig(filename, format='pdf', bbox_inches='tight', pad_inches=0.1)\n",
    "plt.rcParams.update({'font.size': fs})"
   ]
  }
 ],
 "metadata": {
  "kernelspec": {
   "display_name": "Python 3.10.6 64-bit",
   "language": "python",
   "name": "python3"
  },
  "language_info": {
   "codemirror_mode": {
    "name": "ipython",
    "version": 3
   },
   "file_extension": ".py",
   "mimetype": "text/x-python",
   "name": "python",
   "nbconvert_exporter": "python",
   "pygments_lexer": "ipython3",
   "version": "3.10.6"
  },
  "vscode": {
   "interpreter": {
    "hash": "916dbcbb3f70747c44a77c7bcd40155683ae19c65e1c03b4aa3499c5328201f1"
   }
  }
 },
 "nbformat": 4,
 "nbformat_minor": 2
}
