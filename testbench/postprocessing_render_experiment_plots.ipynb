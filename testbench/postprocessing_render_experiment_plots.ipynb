{
 "cells": [
  {
   "cell_type": "markdown",
   "metadata": {},
   "source": [
    "> Copyright 2022 University of Luxembourg\n",
    "> \n",
    "> Licensed under the Apache License, Version 2.0 (the \"License\");  \n",
    "> you may not use this file except in compliance with the License.  \n",
    "> You may obtain a copy of the License at  \n",
    ">\n",
    ">    https://www.apache.org/licenses/LICENSE-2.0\n",
    ">\n",
    "> Unless required by applicable law or agreed to in writing, software  \n",
    "> distributed under the License is distributed on an \"AS IS\" BASIS,  \n",
    "> WITHOUT WARRANTIES OR CONDITIONS OF ANY KIND, either express or implied.  \n",
    "> See the License for the specific language governing permissions and  \n",
    "> limitations under the License.  \n",
    ">\n",
    "***\n",
    "\n",
    "Author: André Stemper (andre.stemper@uni.lu)\n",
    "\n",
    "***"
   ]
  },
  {
   "cell_type": "code",
   "execution_count": null,
   "metadata": {},
   "outputs": [],
   "source": [
    "if not 'experiment_timestamp_string' in locals():\n",
    "    experiment_timestamp_string='20221021-095246'\n",
    "\n",
    "if not 'measurements_root' in locals():\n",
    "    measurements_root='./measurements' "
   ]
  },
  {
   "cell_type": "code",
   "execution_count": null,
   "metadata": {},
   "outputs": [],
   "source": [
    "%matplotlib inline\n",
    "import pandas as pd\n",
    "import matplotlib.pyplot as plt\n",
    "import numpy as np\n",
    "import os\n",
    "import datetime\n",
    "import time\n",
    "import pickle\n",
    "import sys\n",
    "import json\n",
    "\n",
    "enable_example = False\n",
    "%run dataset.ipynb\n"
   ]
  },
  {
   "cell_type": "markdown",
   "metadata": {},
   "source": [
    "Measurement results directory"
   ]
  },
  {
   "cell_type": "code",
   "execution_count": null,
   "metadata": {},
   "outputs": [],
   "source": [
    "measurements_directory = measurements_root + os.path.sep + experiment_timestamp_string"
   ]
  },
  {
   "cell_type": "markdown",
   "metadata": {},
   "source": [
    "**Load settings**"
   ]
  },
  {
   "cell_type": "code",
   "execution_count": null,
   "metadata": {},
   "outputs": [],
   "source": [
    "filename = measurements_directory + os.path.sep + 'settings.json'\n",
    "with open(filename, 'r') as file:\n",
    "    settings = json.load(file)\n",
    "    print(\"Settings loaded from '{}'\".format(filename))\n",
    "\n",
    "print('Settings:')\n",
    "for k, v in settings.items():\n",
    "    print(\" - {} = {}\".format(k, v))"
   ]
  },
  {
   "cell_type": "markdown",
   "metadata": {},
   "source": [
    "**Features**  \n",
    "Features to be packed into a datapoint and send to the implementaion. The order of the features must correspond to the ordering of a datapoint in the C++ implementation\n"
   ]
  },
  {
   "cell_type": "code",
   "execution_count": null,
   "metadata": {},
   "outputs": [],
   "source": [
    "feature_columns = ['temp_0', 'temp_1', 'temp_2', 'temp_3',\n",
    "                   'temp_4', 'temp_5', 'temp_6', 'temp_7', 'temp_8']"
   ]
  },
  {
   "cell_type": "code",
   "execution_count": null,
   "metadata": {},
   "outputs": [],
   "source": [
    "dataset = Dataset(settings['dataset'])[settings['range']]\n"
   ]
  },
  {
   "cell_type": "code",
   "execution_count": null,
   "metadata": {},
   "outputs": [],
   "source": [
    "fig, ax = plt.subplots(1, 1, sharex=True)\n",
    "fig.set_figwidth(20)\n",
    "fig.set_figheight(8)\n",
    "dataset.plot(columns=feature_columns, ax=ax).plot_anomalies(ax=ax)\n"
   ]
  },
  {
   "cell_type": "markdown",
   "metadata": {},
   "source": [
    "**Load the specified dataset**\n"
   ]
  },
  {
   "cell_type": "code",
   "execution_count": null,
   "metadata": {},
   "outputs": [],
   "source": [
    "\n",
    "\n",
    "# load the dataframe extended with measurement data \n",
    "filename = measurements_directory + os.path.sep + \"testbench_data.csv\"\n",
    "dataset.overwrite_dataframe_from_csv(filename=filename)\n"
   ]
  },
  {
   "cell_type": "markdown",
   "metadata": {},
   "source": [
    "**Load statistics** "
   ]
  },
  {
   "cell_type": "code",
   "execution_count": null,
   "metadata": {},
   "outputs": [],
   "source": [
    "filename = measurements_directory + os.path.sep + \"execution_time_statistics.json\"\n",
    "with open(filename, 'r') as file:\n",
    "    execution_time_statistics = json.load(file)  \n",
    "    print(\"Statistics loaded from '{}'\".format(filename))\n",
    "\n",
    "print(\"Execution time / datapoint statistics\")\n",
    "for k, v in execution_time_statistics.items():\n",
    "    print(\"{} \\t= {} [s]\".format(k, v))"
   ]
  },
  {
   "cell_type": "markdown",
   "metadata": {},
   "source": [
    "### Postprocessing \n",
    "**Visualize the dataset and the results**\n"
   ]
  },
  {
   "cell_type": "code",
   "execution_count": null,
   "metadata": {},
   "outputs": [],
   "source": [
    "\n",
    "ylabel_position = (-0.030, 0.5)\n",
    "fig, axs = plt.subplots(4, 1, sharex=True)\n",
    "fig.set_figwidth(26)\n",
    "fig.set_figheight(15)\n",
    "\n",
    "axs[0].set_title(\"Dataset {} evaluated on {}@{}MHz, ({})\".format(settings['dataset'], settings['connection_type'], settings['frequency'], experiment_timestamp_string),fontsize=16)\n",
    "axs[3].set_ylabel(\"Temperature [°C]\")\n",
    "axs[3].yaxis.set_label_coords(*ylabel_position)\n",
    "dataset.plot(columns=feature_columns, ax=axs[3]).plot_anomalies(ax=axs[3])\n",
    "\n",
    "axs[0].set_ylabel(\"Mahalanobis distance squared\")\n",
    "axs[0].yaxis.set_label_coords(*ylabel_position)\n",
    "dataset.plot(columns=['distance'], ax=axs[0], grid=True).plot_anomalies(ax=axs[0])\n",
    "axs[0].grid(axis='x')\n",
    "\n",
    "\n",
    "axs[1].set_ylabel(\"Detection\")\n",
    "axs[1].yaxis.set_label_coords(*ylabel_position)\n",
    "axs[1].set_yticks([1.0, 0.0], [\"abnormal\", \"normal\"])\n",
    "dataset.plot(columns=['detection'], ax=axs[1], color='C4').plot_anomalies(ax=axs[1])\n",
    "\n",
    "\n",
    "axs[2].set_ylabel(\"Execution time [s]\")\n",
    "axs[2].yaxis.set_label_coords(*ylabel_position)\n",
    "dataset.plot(columns=['execution_time'], ax=axs[2], grid=True, color='g').plot_anomalies(ax=axs[2])\n",
    "axs[2].grid(axis='x')\n",
    "\n",
    "axs[3].set_xlabel(\"Timestamp [Month-Day Hour]\")\n",
    "\n",
    "\n",
    "fig.subplots_adjust(hspace=0.05)\n",
    "filename = measurements_directory + os.path.sep + \"postprocessing_testbench_results.png\"\n",
    "plt.savefig(filename)\n",
    "filename = measurements_directory + os.path.sep + \"postprocessing_testbench_results.pdf\"\n",
    "fs = plt.rcParams.get('font.size')\n",
    "plt.rcParams.update({'font.size': 20})\n",
    "plt.savefig(filename, format='pdf', bbox_inches='tight', pad_inches=0.1)\n",
    "plt.rcParams.update({'font.size': fs})"
   ]
  },
  {
   "cell_type": "markdown",
   "metadata": {},
   "source": [
    "**Histogram of excution duration**"
   ]
  },
  {
   "cell_type": "code",
   "execution_count": null,
   "metadata": {},
   "outputs": [],
   "source": [
    "column = dataset.dataframe['execution_time']\n",
    "\n",
    "if settings['connection_type'] == \"local\":\n",
    "    ax=column.plot.hist(column=[\"execution_time\"], bins=15, logy=True, xlim=[0,0.001], figsize=(15,8), edgecolor='white', linewidth=3, grid=True)\n",
    "else:\n",
    "    ax=column.plot.hist(column=[\"execution_time\"], bins=15, logy=True, xlim=[0,0.5], figsize=(15,8), edgecolor='white', linewidth=3, grid=True)\n",
    "\n",
    "ax.set_xlabel(\"Execution time [s]\")\n",
    "ax.set_ylabel(\"Frequency of occurrences [1]\")\n",
    "\n",
    "filename = measurements_directory + os.path.sep + \"postprocessing_testbench_histogram.png\"\n",
    "plt.savefig(filename)\n",
    "filename = measurements_directory + os.path.sep + \"postprocessing_testbench_histogram.pdf\"\n",
    "fs = plt.rcParams.get('font.size')\n",
    "plt.rcParams.update({'font.size': 20})\n",
    "plt.savefig(filename, format='pdf', bbox_inches='tight', pad_inches=0.1)\n",
    "plt.rcParams.update({'font.size': fs})\n"
   ]
  }
 ],
 "metadata": {
  "kernelspec": {
   "display_name": "Python 3.10.6 64-bit",
   "language": "python",
   "name": "python3"
  },
  "language_info": {
   "codemirror_mode": {
    "name": "ipython",
    "version": 3
   },
   "file_extension": ".py",
   "mimetype": "text/x-python",
   "name": "python",
   "nbconvert_exporter": "python",
   "pygments_lexer": "ipython3",
   "version": "3.10.6"
  },
  "vscode": {
   "interpreter": {
    "hash": "916dbcbb3f70747c44a77c7bcd40155683ae19c65e1c03b4aa3499c5328201f1"
   }
  }
 },
 "nbformat": 4,
 "nbformat_minor": 2
}
