{
 "cells": [
  {
   "cell_type": "markdown",
   "metadata": {},
   "source": [
    "> Copyright 2022 University of Luxembourg\n",
    "> \n",
    "> Licensed under the Apache License, Version 2.0 (the \"License\");  \n",
    "> you may not use this file except in compliance with the License.  \n",
    "> You may obtain a copy of the License at  \n",
    ">\n",
    ">    https://www.apache.org/licenses/LICENSE-2.0\n",
    ">\n",
    "> Unless required by applicable law or agreed to in writing, software  \n",
    "> distributed under the License is distributed on an \"AS IS\" BASIS,  \n",
    "> WITHOUT WARRANTIES OR CONDITIONS OF ANY KIND, either express or implied.  \n",
    "> See the License for the specific language governing permissions and  \n",
    "> limitations under the License.  \n",
    ">\n",
    "***\n",
    "\n",
    "Author: André Stemper (andre.stemper@uni.lu)\n",
    "\n",
    "***"
   ]
  },
  {
   "cell_type": "markdown",
   "metadata": {},
   "source": [
    "# Postprocessing - Check if dropit did fail to update data during transfer\n"
   ]
  },
  {
   "cell_type": "markdown",
   "metadata": {},
   "source": [
    "Measurement results directory\n"
   ]
  },
  {
   "cell_type": "code",
   "execution_count": null,
   "metadata": {},
   "outputs": [],
   "source": [
    "if not 'measurements_root' in locals():\n",
    "    measurements_root = './measurements'\n",
    "    "
   ]
  },
  {
   "cell_type": "code",
   "execution_count": null,
   "metadata": {},
   "outputs": [],
   "source": [
    "import json\n",
    "import sys\n",
    "import os\n",
    "import hashlib\n",
    "%matplotlib inline\n"
   ]
  },
  {
   "cell_type": "code",
   "execution_count": null,
   "metadata": {},
   "outputs": [],
   "source": [
    "checksums = {}"
   ]
  },
  {
   "cell_type": "code",
   "execution_count": null,
   "metadata": {},
   "outputs": [],
   "source": [
    "def check_experiment(experiment_timestamp_string, d):\n",
    "    if not os.path.exists(d+os.path.sep+'testbench.pdf'):\n",
    "        raise Exception(\"Experiment {} is missing testbench.pdf\".format(experiment_timestamp_string))\n",
    "    try:\n",
    "        md5_voltage = hashlib.md5(open(d+os.path.sep+'voltage.csv','rb').read()).hexdigest()\n",
    "    except FileExistsError as e:\n",
    "        raise Exception(\"Experiment {} missing file: {}\".format(experiment_timestamp_string, e))\n",
    "    try:\n",
    "        md5_current = hashlib.md5(open(d+os.path.sep+'current.csv','rb').read()).hexdigest()\n",
    "    except FileExistsError as e:\n",
    "        raise Exception(\"Experiment {} missing file: {}\".format(experiment_timestamp_string, e))\n",
    "\n",
    "    if md5_voltage in checksums.keys():\n",
    "        raise Exception(\"Collisison for voltage trace {} {}\".format(checksums[md5_voltage], (experiment_timestamp_string, 'voltage')))\n",
    "    if md5_current in checksums.keys():\n",
    "        raise Exception(\"Collisison for current trace {} {}\".format(checksums[md5_current], (experiment_timestamp_string, 'current')))\n",
    "    \n",
    "    checksums[md5_voltage] = (experiment_timestamp_string, 'voltage')\n",
    "    checksums[md5_current] = (experiment_timestamp_string, 'current')\n",
    "\n",
    "    print(\"Experiment {} passed.\".format(experiment_timestamp_string))"
   ]
  },
  {
   "cell_type": "markdown",
   "metadata": {},
   "source": [
    "Check all experiments\n"
   ]
  },
  {
   "cell_type": "code",
   "execution_count": null,
   "metadata": {},
   "outputs": [],
   "source": [
    "import os\n",
    "for file in os.listdir(measurements_root):\n",
    "    d = os.path.join(measurements_root, file)\n",
    "    if os.path.isdir(d):\n",
    "        experiment_timestamp_string = file\n",
    "        try:\n",
    "            check_experiment(experiment_timestamp_string, d)\n",
    "        except Exception as e:\n",
    "            print(e)"
   ]
  }
 ],
 "metadata": {
  "kernelspec": {
   "display_name": "Python 3.10.6 64-bit",
   "language": "python",
   "name": "python3"
  },
  "language_info": {
   "name": "python",
   "version": "3.10.6"
  },
  "vscode": {
   "interpreter": {
    "hash": "916dbcbb3f70747c44a77c7bcd40155683ae19c65e1c03b4aa3499c5328201f1"
   }
  }
 },
 "nbformat": 4,
 "nbformat_minor": 2
}
