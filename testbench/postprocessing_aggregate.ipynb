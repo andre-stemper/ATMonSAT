{
 "cells": [
  {
   "cell_type": "markdown",
   "metadata": {},
   "source": [
    "> Copyright 2022 University of Luxembourg\n",
    "> \n",
    "> Licensed under the Apache License, Version 2.0 (the \"License\");  \n",
    "> you may not use this file except in compliance with the License.  \n",
    "> You may obtain a copy of the License at  \n",
    ">\n",
    ">    https://www.apache.org/licenses/LICENSE-2.0\n",
    ">\n",
    "> Unless required by applicable law or agreed to in writing, software  \n",
    "> distributed under the License is distributed on an \"AS IS\" BASIS,  \n",
    "> WITHOUT WARRANTIES OR CONDITIONS OF ANY KIND, either express or implied.  \n",
    "> See the License for the specific language governing permissions and  \n",
    "> limitations under the License.  \n",
    ">\n",
    "***\n",
    "\n",
    "Author: André Stemper (andre.stemper@uni.lu)\n",
    "\n",
    "***"
   ]
  },
  {
   "cell_type": "markdown",
   "metadata": {},
   "source": [
    "# Postprocessing - Aggregate informations from multiple experiments\n"
   ]
  },
  {
   "cell_type": "markdown",
   "metadata": {},
   "source": [
    "Measurement results directory\n"
   ]
  },
  {
   "cell_type": "code",
   "execution_count": null,
   "metadata": {},
   "outputs": [],
   "source": [
    "measurements_root = './measurements'\n"
   ]
  },
  {
   "cell_type": "code",
   "execution_count": null,
   "metadata": {},
   "outputs": [],
   "source": [
    "import math\n",
    "import json\n",
    "import sys\n",
    "import pickle\n",
    "import time\n",
    "import datetime\n",
    "import os\n",
    "import numpy as np\n",
    "import matplotlib.pyplot as plt\n",
    "import pandas as pd\n",
    "%matplotlib inline\n"
   ]
  },
  {
   "cell_type": "code",
   "execution_count": null,
   "metadata": {},
   "outputs": [],
   "source": [
    "aggregated_data = {}\n"
   ]
  },
  {
   "cell_type": "markdown",
   "metadata": {},
   "source": [
    "Append data from one experiment located in measurements_directory\n"
   ]
  },
  {
   "cell_type": "code",
   "execution_count": null,
   "metadata": {
    "tags": [
     "parameters"
    ]
   },
   "outputs": [],
   "source": [
    "def append_experiment(measurement, measurements_directory, verbose=False):\n",
    "    global aggregated_data\n",
    "    # load settings\n",
    "    try:\n",
    "        filename = measurements_directory + os.path.sep + 'settings.json'\n",
    "        with open(filename, 'r') as file:\n",
    "            settings = json.load(file)\n",
    "            print(\"{}>Settings loaded from '{}'\".format(measurement, filename))\n",
    "        if verbose:\n",
    "            print('{}>Settings:'.format(measurement))\n",
    "            for k, v in settings.items():\n",
    "                print(\" - {} = {}\".format(k, v))\n",
    "    except Exception as e:\n",
    "        print(\"{}>!!! Missing settings: {}\".format(measurement, e))\n",
    "        print(\"{}>!!! Aborting\".format(measurement))\n",
    "        return\n",
    "    # load power statistics\n",
    "    try:\n",
    "        filename = measurements_directory + os.path.sep + 'power_statistics.json'\n",
    "        with open(filename, 'r') as file:\n",
    "            power_statistics = json.load(file)\n",
    "            print(\"{}>Power statistics loaded from '{}'\".format(\n",
    "                measurement, filename))\n",
    "        if verbose:\n",
    "            print('{}>Power statistics:'.format(measurement))\n",
    "            for k, v in power_statistics.items():\n",
    "                print(\" - {} = {}\".format(k, v))\n",
    "    except Exception as e:\n",
    "        print(\"{}>!!! Missing power statistics: {}\".format(measurement, e))\n",
    "        power_statistics['experiment']['mean'] = -1\n",
    "        power_statistics['experiment']['std'] = -1\n",
    "        power_statistics['background']['mean'] = -1\n",
    "        power_statistics['background']['std'] = -1\n",
    "        power_statistics['difference']['mean'] = -1\n",
    "        power_statistics['difference']['std'] = -1\n",
    "\n",
    "    # load timing statistics\n",
    "    try:\n",
    "        filename = measurements_directory + os.path.sep + 'execution_time_statistics.json'\n",
    "        with open(filename, 'r') as file:\n",
    "            execution_time_statistics = json.load(file)\n",
    "            print(\"{}>Execution time statistics loaded from '{}'\".format(\n",
    "                measurement, filename))\n",
    "        if verbose:\n",
    "            print('{}>Execution time statistics:'.format(measurement))\n",
    "            for k, v in execution_time_statistics.items():\n",
    "                print(\" - {} = {}\".format(k, v))\n",
    "    except Exception as e:\n",
    "        print(\"{}>!!! Missing execution time statistics: {}\".format(measurement, e))\n",
    "\n",
    "    # aggregate into dict\n",
    "    row = {'experiment': settings['timestamp'],\n",
    "           'dataset': settings['dataset'],\n",
    "           'range': settings['range'],\n",
    "           'frequency': float(settings['frequency']),\n",
    "           'connection_type': settings['connection_type'],\n",
    "           'limit': settings['limit'],\n",
    "           'threshold_hold_off': int(settings['threshold_hold_off']),\n",
    "           'power_experiment_mean': power_statistics['experiment']['mean'],\n",
    "           'power_experiment_std': power_statistics['experiment']['std'],\n",
    "           'power_background_mean': power_statistics['background']['mean'],\n",
    "           'power_background_std': power_statistics['background']['std'],\n",
    "           'power_difference_mean': power_statistics['difference']['mean'],\n",
    "           'power_difference_std': power_statistics['difference']['std'],\n",
    "           'execution_time_mean': execution_time_statistics['execution_time']['mean'],\n",
    "           'execution_time_median': execution_time_statistics['execution_time']['median'],\n",
    "           'execution_time_std': execution_time_statistics['execution_time']['std']\n",
    "           }\n",
    "    aggregated_data[settings['timestamp']] = row\n"
   ]
  },
  {
   "cell_type": "markdown",
   "metadata": {},
   "source": [
    "Aggregate from all experiments\n"
   ]
  },
  {
   "cell_type": "code",
   "execution_count": null,
   "metadata": {},
   "outputs": [],
   "source": [
    "import os\n",
    "for file in os.listdir(measurements_root):\n",
    "    d = os.path.join(measurements_root, file)\n",
    "    if os.path.isdir(d):\n",
    "        experiment_timestamp_string = file\n",
    "        append_experiment(experiment_timestamp_string, d)\n",
    "        print(\"---\")\n"
   ]
  },
  {
   "cell_type": "markdown",
   "metadata": {},
   "source": [
    "**convert into a dataframe**\n"
   ]
  },
  {
   "cell_type": "code",
   "execution_count": null,
   "metadata": {},
   "outputs": [],
   "source": [
    "aggregated_dataframe = pd.DataFrame.from_dict(aggregated_data, orient='index')\n",
    "filename = measurements_root + os.path.sep + \"aggregated.csv\"\n",
    "aggregated_dataframe.to_csv(filename, sep=';')\n"
   ]
  },
  {
   "cell_type": "markdown",
   "metadata": {},
   "source": [
    "## Power difference vs Clock frequency\n"
   ]
  },
  {
   "cell_type": "code",
   "execution_count": null,
   "metadata": {},
   "outputs": [],
   "source": [
    "\n",
    "#filtered = aggregated_dataframe[(aggregated_dataframe['dataset'] == '2022.06.15') &\n",
    "#                                (aggregated_dataframe['connection_type'] == 'remote')]\n",
    "\n",
    "filtered = aggregated_dataframe\n",
    "filtered = filtered.sort_values(by=['frequency'])\n",
    "\n",
    "\n",
    "fig, ax = plt.subplots(nrows=1, sharex=True)\n",
    "ax.errorbar(filtered['frequency'], filtered['power_difference_mean'],\n",
    "            yerr=filtered['power_difference_std'], fmt='o', linewidth=2, capsize=6)\n",
    "ax.set_xlabel('Clock frequency [MHz]')\n",
    "ax.set_ylabel('Power difference [W]')\n",
    "plt.grid()\n",
    "\n",
    "\n",
    "filename = measurements_root + os.path.sep + \"power_vs_clock_frequency.png\"\n",
    "plt.savefig(filename)\n",
    "filename = measurements_root + os.path.sep + \"power_vs_clock_frequency.pdf\"\n",
    "plt.savefig(filename)\n"
   ]
  },
  {
   "cell_type": "markdown",
   "metadata": {},
   "source": [
    "## Power difference vs Experiment\n"
   ]
  },
  {
   "cell_type": "code",
   "execution_count": null,
   "metadata": {},
   "outputs": [],
   "source": [
    "\n",
    "filtered = aggregated_dataframe\n",
    "filtered = filtered.sort_values(by=['experiment'])\n",
    "\n",
    "fig, ax = plt.subplots(nrows=1, sharex=True)\n",
    "ax.errorbar(filtered['experiment'], filtered['power_difference_mean'],\n",
    "            yerr=filtered['power_difference_std'], fmt='-o', linewidth=2, capsize=6)\n",
    "ax.set_xlabel('Experiment')\n",
    "ax.set_ylabel('Power difference [W]')\n",
    "\n",
    "filename = measurements_root + os.path.sep + \"power_vs_experiment.png\"\n",
    "plt.savefig(filename)\n",
    "filename = measurements_root + os.path.sep + \"power_vs_experiment.pdf\"\n",
    "plt.savefig(filename)\n"
   ]
  },
  {
   "cell_type": "markdown",
   "metadata": {},
   "source": [
    "## Execution time vs Clock Frequency\n"
   ]
  },
  {
   "cell_type": "code",
   "execution_count": null,
   "metadata": {},
   "outputs": [],
   "source": [
    "\n",
    "filtered = aggregated_dataframe\n",
    "filtered = filtered.sort_values(by=['frequency'])\n",
    "\n",
    "\n",
    "fig, ax = plt.subplots(nrows=1, sharex=True)\n",
    "ax.errorbar(filtered['frequency'], filtered['execution_time_mean'],\n",
    "            yerr=filtered['execution_time_std'], fmt='o', linewidth=2, capsize=6)\n",
    "ax.set_xlabel('Clock frequency [MHz]')\n",
    "ax.set_ylabel('Mean execution time [s]')\n",
    "ax.set_ylim(0, None)\n",
    "plt.grid()\n",
    "\n",
    "filename = measurements_root + os.path.sep + \"execution_time_vs_clock_frequency.png\"\n",
    "plt.savefig(filename)\n",
    "filename = measurements_root + os.path.sep + \"execution_time_vs_clock_frequency.pdf\"\n",
    "plt.savefig(filename)\n",
    "\n"
   ]
  },
  {
   "cell_type": "markdown",
   "metadata": {},
   "source": [
    "TODO barplot with errros "
   ]
  },
  {
   "cell_type": "code",
   "execution_count": null,
   "metadata": {},
   "outputs": [],
   "source": [
    "experiment_datasets =['2022.04.06', '2022.05.18', '2022.05.20', '2022.05.30', '2022.06.01', '2022.06.03', '2022.06.08', '2022.06.15', '2022.06.22', '2022.07.20']\n",
    "experiment_clock_frequencies = [39,78,146,298]"
   ]
  },
  {
   "cell_type": "markdown",
   "metadata": {},
   "source": [
    "box and whisker plot \n",
    "or min,max, mean"
   ]
  },
  {
   "cell_type": "code",
   "execution_count": null,
   "metadata": {},
   "outputs": [],
   "source": [
    "filtered = aggregated_dataframe\n",
    "filtered = filtered.sort_values(by=['frequency'])\n",
    "\n",
    "ind = np.arange(len(experiment_datasets))  # the x locations for the groups\n",
    "width = 0.20  # the width of the bars\n",
    "amp = 1\n",
    "\n",
    "\n",
    "fig, ax = plt.subplots()\n",
    "fig.set_size_inches(12, 8)\n",
    "rects = {}\n",
    "for i, f in enumerate(experiment_clock_frequencies):\n",
    "    t = filtered[(filtered['frequency'] == f)]\n",
    "    if len(t) == 0:\n",
    "        raise Exception(\"Not enough data\")\n",
    "    rects[f] = ax.bar(ind*amp - amp*i*width,\n",
    "                      t['execution_time_mean'],\n",
    "                      width,\n",
    "                      yerr=(np.zeros(len(t['execution_time_std'])),\n",
    "                            t['execution_time_std']),\n",
    "                      label=\"{} [MHz]\".format(f),\n",
    "                      log=False)  # t['execution_time_std']\n",
    "\n",
    "ax.set_ylabel('Execution Time')\n",
    "ax.set_xlabel('Dataset')\n",
    "ax.set_title('Execution Time vs Dataset vs Clock Frequency')\n",
    "ax.set_xticks(ind)\n",
    "ax.set_xticklabels([\"{}\".format(f) for f in experiment_datasets])\n",
    "ax.legend()\n",
    "\n",
    "fig.tight_layout()\n",
    "\n",
    "filename = measurements_root + os.path.sep + \"execution_time_vs_dataset_vs_clock_frequency.png\"\n",
    "plt.savefig(filename)\n",
    "filename = measurements_root + os.path.sep + \"execution_time_vs_dataset_clock_frequency.pdf\"\n",
    "plt.savefig(filename)\n",
    "\n",
    "plt.show()\n"
   ]
  }
 ],
 "metadata": {
  "kernelspec": {
   "display_name": "Python 3.10.6 64-bit",
   "language": "python",
   "name": "python3"
  },
  "language_info": {
   "name": "python",
   "version": "3.10.6"
  },
  "vscode": {
   "interpreter": {
    "hash": "916dbcbb3f70747c44a77c7bcd40155683ae19c65e1c03b4aa3499c5328201f1"
   }
  }
 },
 "nbformat": 4,
 "nbformat_minor": 2
}
