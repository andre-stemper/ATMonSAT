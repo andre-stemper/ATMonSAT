{
 "cells": [
  {
   "cell_type": "markdown",
   "id": "0ea9c230",
   "metadata": {},
   "source": [
    "> Copyright 2022 University of Luxembourg\n",
    "> \n",
    "> Licensed under the Apache License, Version 2.0 (the \"License\");  \n",
    "> you may not use this file except in compliance with the License.  \n",
    "> You may obtain a copy of the License at  \n",
    ">\n",
    ">    https://www.apache.org/licenses/LICENSE-2.0\n",
    ">\n",
    "> Unless required by applicable law or agreed to in writing, software  \n",
    "> distributed under the License is distributed on an \"AS IS\" BASIS,  \n",
    "> WITHOUT WARRANTIES OR CONDITIONS OF ANY KIND, either express or implied.  \n",
    "> See the License for the specific language governing permissions and  \n",
    "> limitations under the License.  \n",
    ">\n",
    "***\n",
    "\n",
    "Author: Andrzej Mizera (andrzej.mizera@uni.lu)\n",
    "\n",
    "***"
   ]
  },
  {
   "cell_type": "markdown",
   "id": "84e6f2ee",
   "metadata": {},
   "source": [
    "# Deep-learning model architectures for the AtMonSat anomaly detection algorithm."
   ]
  },
  {
   "cell_type": "code",
   "execution_count": null,
   "id": "e9fc17b4",
   "metadata": {},
   "outputs": [],
   "source": [
    "from tensorflow.keras.models import Sequential\n",
    "from tensorflow.keras.layers import Input, Dense, LSTM, Conv1D, Conv2D, Dropout, MaxPooling1D, Flatten, Reshape, RepeatVector, TimeDistributed"
   ]
  },
  {
   "cell_type": "markdown",
   "id": "4e2799e4",
   "metadata": {},
   "source": [
    "#### AutoEncoder model"
   ]
  },
  {
   "cell_type": "code",
   "execution_count": null,
   "id": "e2e5c3c6",
   "metadata": {},
   "outputs": [],
   "source": [
    "if (model_name == 'AutoEncoder'):\n",
    "    model=Sequential()\n",
    "    model.add(LSTM(500, kernel_initializer='he_uniform', batch_input_shape=(None, window_length, n_features_in), return_sequences=True, name='encoder_1'))\n",
    "    model.add(LSTM(200, kernel_initializer='he_uniform', return_sequences=True, name='encoder_2'))\n",
    "    model.add(LSTM(50, kernel_initializer='he_uniform', return_sequences=False, name='encoder_3'))\n",
    "    model.add(RepeatVector(window_length, name='encoder_decoder_bridge'))\n",
    "    model.add(LSTM(50, kernel_initializer='he_uniform', return_sequences=True, name='decoder_1'))\n",
    "    model.add(LSTM(200, kernel_initializer='he_uniform', return_sequences=True, name='decoder_2'))\n",
    "    model.add(LSTM(500, kernel_initializer='he_uniform', return_sequences=True, name='decoder_3'))\n",
    "    model.add(TimeDistributed(Dense(n_features_out)))"
   ]
  },
  {
   "cell_type": "markdown",
   "id": "1b15e330",
   "metadata": {},
   "source": [
    "#### Simple Convolution Neural Network (CNN)-based model"
   ]
  },
  {
   "cell_type": "code",
   "execution_count": null,
   "id": "ea52dd6c",
   "metadata": {},
   "outputs": [],
   "source": [
    "if (model_name == 'CNN'):\n",
    "    model=Sequential()\n",
    "    model.add(Conv1D(filters=5, kernel_size=5, activation=\"relu\", batch_input_shape=(None, window_length, n_features_in)))\n",
    "    model.add(Flatten())\n",
    "    model.add(Dense(n_features_out))"
   ]
  },
  {
   "cell_type": "markdown",
   "id": "711adce0",
   "metadata": {},
   "source": [
    "#### Simple LSTM-based models"
   ]
  },
  {
   "cell_type": "code",
   "execution_count": null,
   "id": "54fe8d22",
   "metadata": {},
   "outputs": [],
   "source": [
    "if (model_name == 'LSTM'):\n",
    "    model = Sequential()\n",
    "    model.add(LSTM(100, activation='tanh', return_sequences=False))\n",
    "    model.add(Dense(n_features_out))    "
   ]
  },
  {
   "cell_type": "code",
   "execution_count": null,
   "id": "458b8f33",
   "metadata": {},
   "outputs": [],
   "source": [
    "if (model_name == 'LSTM_2'):\n",
    "    model = Sequential()\n",
    "    model.add(LSTM(100, activation='relu', return_sequences=True))\n",
    "    model.add(LSTM(200, activation='relu', return_sequences=True))\n",
    "    model.add(LSTM(100, activation='relu', return_sequences=False))\n",
    "    model.add(Dense(n_features_out))"
   ]
  }
 ],
 "metadata": {
  "kernelspec": {
   "display_name": "Python 3 (ipykernel)",
   "language": "python",
   "name": "python3"
  },
  "language_info": {
   "codemirror_mode": {
    "name": "ipython",
    "version": 3
   },
   "file_extension": ".py",
   "mimetype": "text/x-python",
   "name": "python",
   "nbconvert_exporter": "python",
   "pygments_lexer": "ipython3",
   "version": "3.9.13"
  }
 },
 "nbformat": 4,
 "nbformat_minor": 5
}
